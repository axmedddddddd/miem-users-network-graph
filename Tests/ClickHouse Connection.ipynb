{
 "cells": [
  {
   "cell_type": "code",
   "execution_count": 8,
   "id": "424f1598-b695-41dd-be3a-8eb374e417d9",
   "metadata": {},
   "outputs": [],
   "source": [
    "ch_host = \"10.120.1.11\"\n",
    "ch_port = 8123\n",
    "ch_username = \"amarbuliev\"\n",
    "ch_password = \"KuUNgVlPQiSN6dRqk\""
   ]
  },
  {
   "cell_type": "code",
   "execution_count": 9,
   "id": "f778db34-2fc1-46d2-b094-45689ec45bae",
   "metadata": {},
   "outputs": [],
   "source": [
    "from footprint_dftools.clickhouse import clickhouse_connection as ch\n",
    "\n",
    "connection = ch.ClickHouseConnection(ch_host, ch_username, ch_password)"
   ]
  },
  {
   "cell_type": "code",
   "execution_count": 16,
   "id": "d3f02412-30a4-4fbc-863b-cc7fe58fc255",
   "metadata": {},
   "outputs": [
    {
     "data": {
      "text/html": [
       "<div>\n",
       "<style scoped>\n",
       "    .dataframe tbody tr th:only-of-type {\n",
       "        vertical-align: middle;\n",
       "    }\n",
       "\n",
       "    .dataframe tbody tr th {\n",
       "        vertical-align: top;\n",
       "    }\n",
       "\n",
       "    .dataframe thead th {\n",
       "        text-align: right;\n",
       "    }\n",
       "</style>\n",
       "<table border=\"1\" class=\"dataframe\">\n",
       "  <thead>\n",
       "    <tr style=\"text-align: right;\">\n",
       "      <th></th>\n",
       "    </tr>\n",
       "  </thead>\n",
       "  <tbody>\n",
       "  </tbody>\n",
       "</table>\n",
       "</div>"
      ],
      "text/plain": [
       "Empty DataFrame\n",
       "Columns: []\n",
       "Index: []"
      ]
     },
     "execution_count": 16,
     "metadata": {},
     "output_type": "execute_result"
    }
   ],
   "source": [
    "connection.read_database('TRUNCATE TABLE sandbox.ongoing_projects')"
   ]
  },
  {
   "cell_type": "code",
   "execution_count": 17,
   "id": "81a5ca6d-3911-4894-ae41-c4e546428b1f",
   "metadata": {},
   "outputs": [
    {
     "data": {
      "text/html": [
       "<div>\n",
       "<style scoped>\n",
       "    .dataframe tbody tr th:only-of-type {\n",
       "        vertical-align: middle;\n",
       "    }\n",
       "\n",
       "    .dataframe tbody tr th {\n",
       "        vertical-align: top;\n",
       "    }\n",
       "\n",
       "    .dataframe thead th {\n",
       "        text-align: right;\n",
       "    }\n",
       "</style>\n",
       "<table border=\"1\" class=\"dataframe\">\n",
       "  <thead>\n",
       "    <tr style=\"text-align: right;\">\n",
       "      <th></th>\n",
       "      <th>id</th>\n",
       "      <th>status</th>\n",
       "      <th>statusDesc</th>\n",
       "      <th>nameRus</th>\n",
       "      <th>head</th>\n",
       "      <th>directionHead</th>\n",
       "      <th>type</th>\n",
       "      <th>typeDesc</th>\n",
       "      <th>typeId</th>\n",
       "      <th>statusId</th>\n",
       "      <th>...</th>\n",
       "      <th>payed</th>\n",
       "      <th>projectOfficeControl</th>\n",
       "      <th>studentsCount</th>\n",
       "      <th>searchString</th>\n",
       "      <th>clientLogo</th>\n",
       "      <th>detailed_team</th>\n",
       "      <th>projectIndustryLabel</th>\n",
       "      <th>leaders</th>\n",
       "      <th>initiatorId</th>\n",
       "      <th>thumbnail</th>\n",
       "    </tr>\n",
       "  </thead>\n",
       "  <tbody>\n",
       "  </tbody>\n",
       "</table>\n",
       "<p>0 rows × 27 columns</p>\n",
       "</div>"
      ],
      "text/plain": [
       "Empty DataFrame\n",
       "Columns: [id, status, statusDesc, nameRus, head, directionHead, type, typeDesc, typeId, statusId, dateCreated, vacancies, team, vacancyData, number, hoursCount, initiatorEmail, payed, projectOfficeControl, studentsCount, searchString, clientLogo, detailed_team, projectIndustryLabel, leaders, initiatorId, thumbnail]\n",
       "Index: []\n",
       "\n",
       "[0 rows x 27 columns]"
      ]
     },
     "execution_count": 17,
     "metadata": {},
     "output_type": "execute_result"
    }
   ],
   "source": [
    "connection.read_database('SELECT * FROM sandbox.ongoing_projects')"
   ]
  },
  {
   "cell_type": "code",
   "execution_count": null,
   "id": "1debc43c-7a13-4432-aeea-b34f1285f9c1",
   "metadata": {},
   "outputs": [],
   "source": []
  }
 ],
 "metadata": {
  "kernelspec": {
   "display_name": "Python 3 (ipykernel)",
   "language": "python",
   "name": "python3"
  },
  "language_info": {
   "codemirror_mode": {
    "name": "ipython",
    "version": 3
   },
   "file_extension": ".py",
   "mimetype": "text/x-python",
   "name": "python",
   "nbconvert_exporter": "python",
   "pygments_lexer": "ipython3",
   "version": "3.10.10"
  }
 },
 "nbformat": 4,
 "nbformat_minor": 5
}
