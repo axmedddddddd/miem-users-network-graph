{
 "cells": [
  {
   "cell_type": "code",
   "execution_count": 1,
   "id": "1a539e14-094a-4047-9440-9bb012f87e68",
   "metadata": {},
   "outputs": [],
   "source": [
    "from typing import TypeVar\n",
    "import sqlalchemy as sa\n",
    "from sqlalchemy import NullPool\n",
    "import pandas as pd\n",
    "\n",
    "SelfClickHouseConnection = TypeVar(\"SelfClickHouseConnection\", bound=\"ClickHouseConnection\")\n",
    "\n",
    "class ClickHouseConnection:\n",
    "    \"\"\"Класс контекстного менеджера для работы с ClickHouse\"\"\"\n",
    "    \n",
    "    def __init__(self, host: str, username: str, password: str, port: str = \"9000\"):\n",
    "        \"\"\"\n",
    "        Параметры:\n",
    "            host: хост ClickHouse\n",
    "            username: имя пользователя ClickHouse\n",
    "            password: пароль пользователя ClickHouse\n",
    "            port: порт ClickHouse\n",
    "        \"\"\"\n",
    "        \n",
    "        self.session = None\n",
    "        self.__host = host\n",
    "        self.__port = port\n",
    "        self.__username = username\n",
    "        self.__password = password\n",
    "        \n",
    "    def __get_url(self) -> str:\n",
    "        \"\"\"Метод формирует connection string для подключения к ClickHouse\"\"\"\n",
    "        \n",
    "        url = \"clickhouse+native://{username}:{password}@{host}:{port}\"\n",
    "        url = url.format(\n",
    "            host = self.__host,\n",
    "            port = self.__port,\n",
    "            username = self.__username,\n",
    "            password = self.__password\n",
    "        )\n",
    "        return url\n",
    "        \n",
    "    def __enter__(self: SelfClickHouseConnection) -> SelfClickHouseConnection:\n",
    "        engine = sa.create_engine(self.__get_url(), poolclass=NullPool)\n",
    "        self.session = engine.connect()\n",
    "        return self\n",
    "    \n",
    "    def __exit__(self, exception_type, exception_value, traceback):\n",
    "        self.session.close()\n",
    "        \n",
    "    def read_sql(self, query: str) -> pd.DataFrame:\n",
    "        \"\"\"\n",
    "        Запрос к БД через фреймворк pandas\n",
    "        \n",
    "        Параметры:\n",
    "            query: SQL в формате строки\n",
    "            \n",
    "        Возвращает:\n",
    "            датафрейм с результатами запроса\n",
    "        \"\"\"\n",
    "        \n",
    "        with self as connector:\n",
    "            return pd.read_sql(query, con=connector.session)"
   ]
  },
  {
   "cell_type": "code",
   "execution_count": 2,
   "id": "4265fd89-f369-4944-9657-0367506798d5",
   "metadata": {},
   "outputs": [],
   "source": [
    "ch_host = \"10.120.1.11\"\n",
    "ch_port = 8123\n",
    "ch_username = \"amarbuliev\"\n",
    "ch_password = \"KuUNgVlPQiSN6dRqk\"\n",
    "\n",
    "connection_manager = ClickHouseConnection(host=ch_host, username=ch_username, password=ch_password)\n",
    "\n",
    "df = connection_manager.read_sql(\"SELECT * FROM sandbox.professional_interests\")"
   ]
  },
  {
   "cell_type": "code",
   "execution_count": 7,
   "id": "61591268-bb33-4532-9924-f06bd2a97b5e",
   "metadata": {},
   "outputs": [
    {
     "data": {
      "text/plain": [
       "0         0\n",
       "1         1\n",
       "2         2\n",
       "3         3\n",
       "4         5\n",
       "       ... \n",
       "165    4202\n",
       "166    4217\n",
       "167    4234\n",
       "168    4269\n",
       "169    4301\n",
       "Name: teacher_id, Length: 170, dtype: int64"
      ]
     },
     "execution_count": 7,
     "metadata": {},
     "output_type": "execute_result"
    }
   ],
   "source": [
    "df.teacher_id"
   ]
  },
  {
   "cell_type": "code",
   "execution_count": 10,
   "id": "a730e21a-6764-4003-892b-f9eaf1694df2",
   "metadata": {},
   "outputs": [
    {
     "name": "stdout",
     "output_type": "stream",
     "text": [
      "File 'teacher_interests.json' has been saved successfully in the current directory.\n"
     ]
    }
   ],
   "source": [
    "import json\n",
    "\n",
    "#df.set_index('teacher_id', inplace=True)\n",
    "\n",
    "# Convert the DataFrame to a Python dict\n",
    "teacher_interests_dict = df['professional_interests'].squeeze().to_dict()\n",
    "\n",
    "# Define the file path (in the current folder) and file name\n",
    "file_name = 'teacher_interests.json'\n",
    "\n",
    "# Write the Python dictionary to a JSON file with UTF-8 encoding\n",
    "with open(file_name, 'w', encoding='utf-8') as f:\n",
    "    json.dump(teacher_interests_dict, f, ensure_ascii=False, indent=4)\n",
    "\n",
    "print(f\"File '{file_name}' has been saved successfully in the current directory.\")"
   ]
  },
  {
   "cell_type": "code",
   "execution_count": null,
   "id": "56cbe099-5050-45ed-ad42-c955a88f4688",
   "metadata": {},
   "outputs": [],
   "source": []
  }
 ],
 "metadata": {
  "kernelspec": {
   "display_name": "Python 3 (ipykernel)",
   "language": "python",
   "name": "python3"
  },
  "language_info": {
   "codemirror_mode": {
    "name": "ipython",
    "version": 3
   },
   "file_extension": ".py",
   "mimetype": "text/x-python",
   "name": "python",
   "nbconvert_exporter": "python",
   "pygments_lexer": "ipython3",
   "version": "3.10.10"
  }
 },
 "nbformat": 4,
 "nbformat_minor": 5
}
