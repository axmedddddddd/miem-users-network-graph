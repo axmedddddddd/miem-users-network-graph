{
 "cells": [
  {
   "cell_type": "code",
   "execution_count": 1,
   "id": "5fdc7847-3aab-4b69-b0e7-b1d2ef9afa26",
   "metadata": {},
   "outputs": [
    {
     "name": "stdout",
     "output_type": "stream",
     "text": [
      "['методы оптимизации', 'дискретная математика', 'параллельные вычисления', 'технологии программирования']\n"
     ]
    }
   ],
   "source": [
    "import requests\n",
    "from bs4 import BeautifulSoup\n",
    "\n",
    "def extract_tags(url):\n",
    "    response = requests.get(url)\n",
    "    soup = BeautifulSoup(response.content, \"html.parser\")\n",
    "\n",
    "    # Find the div with the specified class\n",
    "    target_div = soup.find(\"div\", class_=\"b-person-data__inner b-person-data__tags\")\n",
    "\n",
    "    if target_div is None:\n",
    "        return []\n",
    "\n",
    "    # Extract the text from all the 'a' tags inside the target div\n",
    "    tags = [a_tag.text for a_tag in target_div.find_all(\"a\", class_=\"tag tag_small\")]\n",
    "\n",
    "    return tags\n",
    "\n",
    "# Replace 'your_url_here' with the URL you want to parse\n",
    "url = \"https://www.hse.ru/staff/sslastnikov\"\n",
    "tags = extract_tags(url)\n",
    "print(tags)"
   ]
  },
  {
   "cell_type": "code",
   "execution_count": null,
   "id": "c5f04d84-3e5e-4279-ada7-304b99a48a0f",
   "metadata": {},
   "outputs": [],
   "source": []
  }
 ],
 "metadata": {
  "kernelspec": {
   "display_name": "Python 3 (ipykernel)",
   "language": "python",
   "name": "python3"
  },
  "language_info": {
   "codemirror_mode": {
    "name": "ipython",
    "version": 3
   },
   "file_extension": ".py",
   "mimetype": "text/x-python",
   "name": "python",
   "nbconvert_exporter": "python",
   "pygments_lexer": "ipython3",
   "version": "3.10.10"
  }
 },
 "nbformat": 4,
 "nbformat_minor": 5
}
