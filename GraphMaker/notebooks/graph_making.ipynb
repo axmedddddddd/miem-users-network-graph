{
 "cells": [
  {
   "cell_type": "code",
   "execution_count": 117,
   "metadata": {
    "pycharm": {
     "is_executing": true
    }
   },
   "outputs": [],
   "source": [
    "import tqdm\n",
    "import datetime"
   ]
  },
  {
   "cell_type": "code",
   "execution_count": 21,
   "metadata": {
    "pycharm": {
     "name": "#%%\n"
    }
   },
   "outputs": [],
   "source": [
    "import itertools\n",
    "import json\n",
    "from collections import Counter\n",
    "from typing import Iterable\n",
    "\n",
    "from models import Node, Link, Response\n",
    "\n",
    "\n",
    "def reformat_fullname(fullname: str) -> str:\n",
    "    fullname = fullname.split()\n",
    "    name = f\"{fullname[0]} {fullname[1][0]}.{fullname[2][0]}.\"\n",
    "    return name\n",
    "\n",
    "\n",
    "def flatten(t: Iterable):\n",
    "    return [item for sublist in t for item in sublist]"
   ]
  },
  {
   "cell_type": "code",
   "execution_count": 105,
   "metadata": {
    "pycharm": {
     "is_executing": true,
     "name": "#%%\n"
    }
   },
   "outputs": [
    {
     "name": "stderr",
     "output_type": "stream",
     "text": [
      "100%|█████████████████████████████████████████████████████████████████████████████████| 349/349 [03:14<00:00,  1.79it/s]\n"
     ]
    }
   ],
   "source": [
    "data = cabinet.parse_projects()\n",
    "data = cabinet.filter_by_working(data)\n",
    "\n",
    "for p in tqdm.tqdm(data):\n",
    "    pid = p['id']\n",
    "    p['detailed_team'] = cabinet.project_team(pid)\n",
    "    \n",
    "    detailed_info = cabinet.detailed_project_info(pid)\n",
    "    p['projectIndustryLabel'] = detailed_info.get(\"projectIndustryLabel\", \"Неизвестно\")\n",
    "    p['typeDesc'] = detailed_info.get(\"typeDesc\", \"Неизвестно\")\n",
    "    p['leaders'] = detailed_info.get(\"leaders\")\n"
   ]
  },
  {
   "cell_type": "code",
   "execution_count": 251,
   "metadata": {},
   "outputs": [],
   "source": [
    "def process_member(member):\n",
    "    member_clean = {}\n",
    "    \n",
    "    fname = member['first_name']\n",
    "    if fname:\n",
    "        fname = fname[0]\n",
    "        \n",
    "    mname = member['middle_name']\n",
    "    if mname:\n",
    "        mname = mname[0]\n",
    "    \n",
    "    joined_team = member['startDate']\n",
    "    if joined_team is not None:\n",
    "        in_team_duration = datetime.datetime.now() - datetime.datetime.strptime(joined_team, \"%d.%m.%Y\")\n",
    "        in_team_duration = in_team_duration.days\n",
    "    else:\n",
    "        in_team_duration = None\n",
    "        \n",
    "    member_clean['in_team_duration'] = in_team_duration\n",
    "    member_clean['name'] = f\"{member['last_name']} {fname}.{mname}.\"\n",
    "#     member_clean['name'] = member['name']\n",
    "    member_clean['id'] = member['id']\n",
    "    member_clean['study_group'] = member['group']\n",
    "    \n",
    "    return member_clean\n",
    "\n",
    "def process_leaders(leader):\n",
    "    leader_clean = {}\n",
    "    \n",
    "    fname = leader['first_name']\n",
    "    if fname:\n",
    "        fname = fname[0]\n",
    "        \n",
    "    mname = leader['middle_name']\n",
    "    if mname:\n",
    "        mname = mname[0]\n",
    "\n",
    "    leader_clean['name'] = f\"{leader['last_name']} {fname}.{mname}.\"\n",
    "#     leader_clean['name'] = leader['fio']\n",
    "    leader_clean['id'] = leader['id']\n",
    "    leader_clean['role'] = 'Руководитель направления'\n",
    "    \n",
    "    return leader_clean"
   ]
  },
  {
   "cell_type": "code",
   "execution_count": 252,
   "metadata": {},
   "outputs": [
    {
     "name": "stdout",
     "output_type": "stream",
     "text": [
      "CPU times: user 17.5 ms, sys: 0 ns, total: 17.5 ms\n",
      "Wall time: 15.8 ms\n"
     ]
    }
   ],
   "source": [
    "%%time\n",
    "\n",
    "nodes_groups = {}\n",
    "group_by = \"projectIndustryLabel\"\n",
    "groups_labels = {}\n",
    "project_members = []\n",
    "\n",
    "clean_data = []\n",
    "nodes_ids = []\n",
    "for project in data:\n",
    "    clean_project = {}\n",
    "    \n",
    "    group = project[group_by]\n",
    "    if group not in groups_labels:\n",
    "        groups_labels[group] = len(groups_labels)\n",
    "\n",
    "    clean_project['group'] = groups_labels[group]\n",
    "    clean_project['group_label'] = group\n",
    "    \n",
    "    team = project['detailed_team']\n",
    "    team_clean = [process_member(member) for member in team]\n",
    "    \n",
    "    for m in team_clean:\n",
    "        nodes_ids.append(m['id'])\n",
    "        \n",
    "    clean_project['team'] = team_clean\n",
    "    \n",
    "    leaders_clean = [process_leaders(leader) for leader in project['leaders']]\n",
    "    for l in leaders_clean:\n",
    "        nodes_ids.append(l['id'])\n",
    "        \n",
    "    clean_project['leaders'] = leaders_clean\n",
    "\n",
    "    clean_data.append(clean_project)"
   ]
  },
  {
   "cell_type": "code",
   "execution_count": 270,
   "metadata": {},
   "outputs": [
    {
     "data": {
      "text/plain": [
       "[{'name': 'Кофанов Ю.Н.', 'id': 35, 'role': 'Руководитель направления'},\n",
       " {'name': 'Самбурский Л.М.', 'id': 57, 'role': 'Руководитель направления'},\n",
       " {'name': ' ..', 'id': 0, 'role': 'Руководитель направления'}]"
      ]
     },
     "execution_count": 270,
     "metadata": {},
     "output_type": "execute_result"
    }
   ],
   "source": [
    "leaders_clean"
   ]
  },
  {
   "cell_type": "code",
   "execution_count": 255,
   "metadata": {},
   "outputs": [],
   "source": [
    "nodes_weight = Counter(nodes_ids)"
   ]
  },
  {
   "cell_type": "code",
   "execution_count": 289,
   "metadata": {
    "scrolled": true
   },
   "outputs": [
    {
     "data": {
      "text/plain": [
       "24"
      ]
     },
     "execution_count": 289,
     "metadata": {},
     "output_type": "execute_result"
    }
   ],
   "source": [
    "nodes_weight[33]"
   ]
  },
  {
   "cell_type": "code",
   "execution_count": 258,
   "metadata": {},
   "outputs": [],
   "source": [
    "from dataclasses import dataclass\n"
   ]
  },
  {
   "cell_type": "code",
   "execution_count": 272,
   "metadata": {},
   "outputs": [],
   "source": [
    "@dataclass\n",
    "class Node:\n",
    "    id: int\n",
    "    label: str\n",
    "    weight: int\n",
    "\n",
    "@dataclass\n",
    "class Edge:\n",
    "    from_id: int\n",
    "    to_id: int\n",
    "    group: int\n",
    "    weight: int"
   ]
  },
  {
   "cell_type": "code",
   "execution_count": 296,
   "metadata": {
    "scrolled": false
   },
   "outputs": [
    {
     "name": "stdout",
     "output_type": "stream",
     "text": [
      "CPU times: user 8.98 ms, sys: 0 ns, total: 8.98 ms\n",
      "Wall time: 8.41 ms\n"
     ]
    }
   ],
   "source": [
    "%%time\n",
    "\n",
    "nodes = []\n",
    "edges = []\n",
    "added_nodes = set()\n",
    "for p in clean_data:\n",
    "    #make nodes\n",
    "    members_nodes = []\n",
    "    \n",
    "    team_nodes = []\n",
    "    for m in p['team']:\n",
    "        if m['id'] in added_nodes:\n",
    "            continue\n",
    "        added_nodes.add(m['id'])\n",
    "        \n",
    "        node = Node(id=m['id'], label=m['name'], weight=nodes_weight[m['id']])\n",
    "        members_nodes.append(node)\n",
    "        \n",
    "    nodes += members_nodes\n",
    "    \n",
    "    \n",
    "    for l in p['leaders']:\n",
    "        if l['id'] in added_nodes:\n",
    "            continue\n",
    "            \n",
    "        added_nodes.add(l['id'])\n",
    "        node = Node(id=l['id'], label=l['name'], weight=nodes_weight[l['id']])\n",
    "        nodes.append(node)\n",
    "        \n",
    "    \n",
    "    \n",
    "    #make edges\n",
    "    for node1, node2 in itertools.combinations(members_nodes, r=2):\n",
    "        edge = Edge(from_id=node1.id, to_id=node2.id, group=p['group'], weight=1)\n",
    "        edges.append(edge)\n",
    "        \n",
    "    for member_node in p['team']:\n",
    "        for leader_node in p['leaders']:\n",
    "            edge = Edge(from_id=member_node['id'], \n",
    "                        to_id=leader_node['id'], \n",
    "                        group=p['group'], \n",
    "                        weight=member_node['in_team_duration'])\n",
    "            \n",
    "            if edge.from_id == 0 or edge.to_id == 0 or edge.from_id == edge.to_id:\n",
    "                continue\n",
    "            edges.append(edge)\n",
    "            \n",
    "    \n",
    "nodes = [i for i in nodes if i.id != 0]"
   ]
  },
  {
   "cell_type": "code",
   "execution_count": 303,
   "metadata": {},
   "outputs": [],
   "source": [
    "from pyvis.network import Network\n",
    "import pickle"
   ]
  },
  {
   "cell_type": "code",
   "execution_count": 297,
   "metadata": {
    "scrolled": true
   },
   "outputs": [
    {
     "data": {
      "text/plain": [
       "[Node(id=34, label='Королев П.С.', weight=4),\n",
       " Node(id=33, label='Королев Д.А.', weight=24),\n",
       " Node(id=1450, label='Королев К..', weight=1),\n",
       " Node(id=2190, label='Королев Д.А.', weight=1)]"
      ]
     },
     "execution_count": 297,
     "metadata": {},
     "output_type": "execute_result"
    }
   ],
   "source": [
    "[i for i in nodes if \"Королев\" in i.label]"
   ]
  },
  {
   "cell_type": "code",
   "execution_count": 298,
   "metadata": {},
   "outputs": [
    {
     "data": {
      "text/plain": [
       "'Королев Д.А.'"
      ]
     },
     "execution_count": 298,
     "metadata": {},
     "output_type": "execute_result"
    }
   ],
   "source": [
    "\"Королев Д.А.\""
   ]
  },
  {
   "cell_type": "code",
   "execution_count": 315,
   "metadata": {},
   "outputs": [],
   "source": [
    "graph = Network(notebook=False, height='1000px', width='100%', bgcolor='#222222', font_color='white')\n",
    "graph.barnes_hut()\n",
    "graph.inherit_edge_colors(False)\n",
    "\n",
    "for node in nodes:\n",
    "    graph.add_node(node.id, label=node.label, value=node.weight)\n",
    "    \n",
    "for edge in edges:\n",
    "    graph.add_edge(edge.from_id, edge.to_id, group=edge.group, color='red')"
   ]
  },
  {
   "cell_type": "code",
   "execution_count": 316,
   "metadata": {},
   "outputs": [],
   "source": [
    "graph.save_graph(\"../src/graph.html\")"
   ]
  },
  {
   "cell_type": "code",
   "execution_count": 311,
   "metadata": {},
   "outputs": [
    {
     "ename": "TypeError",
     "evalue": "'Network' object cannot be interpreted as an integer",
     "output_type": "error",
     "traceback": [
      "\u001B[0;31m---------------------------------------------------------------------------\u001B[0m",
      "\u001B[0;31mTypeError\u001B[0m                                 Traceback (most recent call last)",
      "\u001B[0;32m/tmp/ipykernel_774/502237791.py\u001B[0m in \u001B[0;36m<module>\u001B[0;34m\u001B[0m\n\u001B[1;32m      1\u001B[0m \u001B[0;32mwith\u001B[0m \u001B[0mopen\u001B[0m\u001B[0;34m(\u001B[0m\u001B[0;34m\"graph.pickle\"\u001B[0m\u001B[0;34m,\u001B[0m \u001B[0;34m\"wb\"\u001B[0m\u001B[0;34m)\u001B[0m \u001B[0;32mas\u001B[0m \u001B[0mf\u001B[0m\u001B[0;34m:\u001B[0m\u001B[0;34m\u001B[0m\u001B[0;34m\u001B[0m\u001B[0m\n\u001B[0;32m----> 2\u001B[0;31m     \u001B[0mpickle\u001B[0m\u001B[0;34m.\u001B[0m\u001B[0mdumps\u001B[0m\u001B[0;34m(\u001B[0m\u001B[0mf\u001B[0m\u001B[0;34m,\u001B[0m \u001B[0mgraph\u001B[0m\u001B[0;34m)\u001B[0m\u001B[0;34m\u001B[0m\u001B[0;34m\u001B[0m\u001B[0m\n\u001B[0m",
      "\u001B[0;31mTypeError\u001B[0m: 'Network' object cannot be interpreted as an integer"
     ]
    }
   ],
   "source": [
    "with open(\"graph.pickle\", \"wb\") as f:\n",
    "    pickle.dumps(graph, f)"
   ]
  },
  {
   "cell_type": "code",
   "execution_count": 309,
   "metadata": {},
   "outputs": [
    {
     "data": {
      "text/plain": [
       "<class 'pyvis.network.Network'> |N|=1073 |E|=2,847"
      ]
     },
     "execution_count": 309,
     "metadata": {},
     "output_type": "execute_result"
    }
   ],
   "source": [
    "graph"
   ]
  },
  {
   "cell_type": "code",
   "execution_count": 302,
   "metadata": {},
   "outputs": [
    {
     "data": {
      "text/html": [
       "\n",
       "        <iframe\n",
       "            width=\"100%\"\n",
       "            height=\"750px\"\n",
       "            src=\"asd.html\"\n",
       "            frameborder=\"0\"\n",
       "            allowfullscreen\n",
       "            \n",
       "        ></iframe>\n",
       "        "
      ],
      "text/plain": [
       "<IPython.lib.display.IFrame at 0x7f13098d6200>"
      ]
     },
     "execution_count": 302,
     "metadata": {},
     "output_type": "execute_result"
    }
   ],
   "source": [
    "graph.show(\"asd.html\")"
   ]
  },
  {
   "cell_type": "code",
   "execution_count": null,
   "metadata": {},
   "outputs": [],
   "source": []
  }
 ],
 "metadata": {
  "kernelspec": {
   "display_name": "Python 3 (ipykernel)",
   "language": "python",
   "name": "python3"
  },
  "language_info": {
   "codemirror_mode": {
    "name": "ipython",
    "version": 3
   },
   "file_extension": ".py",
   "mimetype": "text/x-python",
   "name": "python",
   "nbconvert_exporter": "python",
   "pygments_lexer": "ipython3",
   "version": "3.10.1"
  }
 },
 "nbformat": 4,
 "nbformat_minor": 1
}