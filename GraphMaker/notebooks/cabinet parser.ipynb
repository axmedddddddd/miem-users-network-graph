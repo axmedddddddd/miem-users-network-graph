{
 "cells": [
  {
   "cell_type": "code",
   "execution_count": 34,
   "id": "3aa5244b-e03a-4de8-818f-3934ebfa765e",
   "metadata": {},
   "outputs": [],
   "source": [
    "import datetime\n",
    "import glob\n",
    "import json\n",
    "import os\n",
    "from concurrent.futures import ThreadPoolExecutor\n",
    "from typing import List, Tuple\n",
    "\n",
    "import requests\n",
    "from tqdm import tqdm\n",
    "\n",
    "import pandas as pd\n",
    "import clickhouse_connect\n",
    "\n",
    "BASE_URL = \"https://cabinet.miem.hse.ru/public-api\"\n",
    "\n",
    "def api_call(method: str, str_param: str = \"\"):\n",
    "    url = f\"{BASE_URL}/{method}/{str_param}\"\n",
    "    r = requests.get(url)\n",
    "    json = r.json()\n",
    "    if json[\"message\"] == \"OK\":\n",
    "        return json[\"data\"]\n",
    "    else:\n",
    "        return None\n",
    "\n",
    "\n",
    "def parse_projects() -> dict:\n",
    "    \"\"\"Получение данных о проектах\"\"\"\n",
    "    response = api_call(\"projects?statusIds[]=2&limit=1000\")\n",
    "    return response[\"projects\"]\n",
    "\n",
    "def project_team(project_id: int) -> Tuple[int, dict]:\n",
    "    team = api_call(\"project/students\", str_param=project_id)\n",
    "    team = team[\"activeMembers\"]\n",
    "    return project_id, team\n",
    "\n",
    "\n",
    "def detailed_project_info(pid: str, return_field: str = None):\n",
    "    r = requests.get(f\"https://cabinet.miem.hse.ru/public-api/project/body/{pid}\")\n",
    "    data = r.json()[\"data\"]\n",
    "    if return_field is None:\n",
    "        return pid, data\n",
    "    else:\n",
    "        return pid, data[return_field]\n",
    "\n",
    "\n",
    "def parse_from_cabinet():\n",
    "    data = parse_projects()\n",
    "\n",
    "    pids = [i[\"id\"] for i in data]\n",
    "    teams = {}\n",
    "    detailed_infos = {}\n",
    "\n",
    "    with ThreadPoolExecutor(max_workers=12) as executor:\n",
    "        for pid, team in tqdm(executor.map(project_team, pids), total=len(pids)):\n",
    "            teams[pid] = team\n",
    "\n",
    "        for pid, info in tqdm(\n",
    "            executor.map(detailed_project_info, pids), total=len(pids)\n",
    "        ):\n",
    "            detailed_infos[pid] = info\n",
    "\n",
    "    for p in tqdm(data):\n",
    "        pid = p[\"id\"]\n",
    "        p[\"detailed_team\"] = teams[pid]\n",
    "        detailed_info = detailed_infos[pid]\n",
    "        p[\"projectIndustryLabel\"] = detailed_info.get(\n",
    "            \"projectIndustryLabel\", \"Неизвестно\"\n",
    "        )\n",
    "        p[\"typeDesc\"] = detailed_info.get(\"typeDesc\", \"Неизвестно\")\n",
    "        p[\"leaders\"] = detailed_info.get(\"leaders\")\n",
    "\n",
    "        for l in p[\"leaders\"]:\n",
    "            try:\n",
    "                del l[\"pic\"]\n",
    "            except KeyError:\n",
    "                continue\n",
    "\n",
    "    return data"
   ]
  },
  {
   "cell_type": "code",
   "execution_count": 35,
   "id": "3eefe165-06a2-4c1c-9a20-b3afff9b4243",
   "metadata": {},
   "outputs": [],
   "source": [
    "def json_to_dataframe(json_data):\n",
    "    # If input is not empty\n",
    "    if json_data:\n",
    "        # Initialize list for data\n",
    "        data_list = []\n",
    "        # Iterate through each project\n",
    "        for project in json_data:\n",
    "            # Initialize dict for project data\n",
    "            project_dict = {}\n",
    "            # Iterate through each attribute\n",
    "            for key, value in project.items():\n",
    "                # If attribute is a list or dict, convert to string\n",
    "                if type(value) in [list, dict]:\n",
    "                    value = str(value)\n",
    "                # Add attribute to project dict\n",
    "                project_dict[key] = value\n",
    "            # Add project data to data list\n",
    "            data_list.append(project_dict)\n",
    "\n",
    "        # Create DataFrame\n",
    "        df = pd.DataFrame(data_list).astype(str)\n",
    "        \n",
    "        return df\n",
    "    \n",
    "    # If input is empty\n",
    "    else:\n",
    "        print(\"Input JSON is empty\")\n",
    "        return pd.DataFrame()  # return an empty dataframe"
   ]
  },
  {
   "cell_type": "code",
   "execution_count": 36,
   "id": "18ab0dbe-f732-4f1d-bb57-04d2a40eea69",
   "metadata": {},
   "outputs": [
    {
     "name": "stderr",
     "output_type": "stream",
     "text": [
      "100%|████████████████████████████████████████████████████████████████████████████████| 312/312 [00:06<00:00, 51.79it/s]\n",
      "100%|████████████████████████████████████████████████████████████████████████████████| 312/312 [00:12<00:00, 24.06it/s]\n",
      "100%|████████████████████████████████████████████████████████████████████████████| 312/312 [00:00<00:00, 155806.98it/s]\n"
     ]
    }
   ],
   "source": [
    "df = json_to_dataframe(parse_from_cabinet())"
   ]
  },
  {
   "cell_type": "code",
   "execution_count": 37,
   "id": "4c99a725-be8f-4ba1-98fe-45281bf421b6",
   "metadata": {},
   "outputs": [],
   "source": [
    "host = \"10.120.1.11\"\n",
    "username = \"amarbuliev\"\n",
    "password = \"KuUNgVlPQiSN6dRqk\"\n",
    "\n",
    "client = clickhouse_connect.get_client(host=host, port=8123, username=username, password=password)"
   ]
  },
  {
   "cell_type": "code",
   "execution_count": 38,
   "id": "fad9107b-7382-4650-9a84-25effedb4693",
   "metadata": {},
   "outputs": [
    {
     "data": {
      "text/plain": [
       "<clickhouse_connect.driver.summary.QuerySummary at 0x26e14b2f8e0>"
      ]
     },
     "execution_count": 38,
     "metadata": {},
     "output_type": "execute_result"
    }
   ],
   "source": [
    "client.command('DROP TABLE sandbox.ongoing_projects')"
   ]
  },
  {
   "cell_type": "code",
   "execution_count": 39,
   "id": "91b1e426-decb-4160-b9a3-ef4287eb09a4",
   "metadata": {},
   "outputs": [
    {
     "data": {
      "text/plain": [
       "<clickhouse_connect.driver.summary.QuerySummary at 0x26e14b90b80>"
      ]
     },
     "execution_count": 39,
     "metadata": {},
     "output_type": "execute_result"
    }
   ],
   "source": [
    "client.command(\"\"\"\n",
    "CREATE TABLE sandbox.ongoing_projects \n",
    "(\n",
    "    id UInt64,\n",
    "    status String,\n",
    "    statusDesc String,\n",
    "    nameRus String,\n",
    "    head String,\n",
    "    directionHead String,\n",
    "    type String,\n",
    "    typeDesc String,\n",
    "    typeId UInt64,\n",
    "    statusId UInt64,\n",
    "    dateCreated String,\n",
    "    vacancies UInt64,\n",
    "    team String,\n",
    "    vacancyData String,\n",
    "    number UInt64,\n",
    "    hoursCount UInt64,\n",
    "    initiatorEmail String,\n",
    "    payed Bool,\n",
    "    projectOfficeControl Bool,\n",
    "    studentsCount UInt64,\n",
    "    searchString String,\n",
    "    clientLogo String,\n",
    "    detailed_team String,\n",
    "    projectIndustryLabel String,\n",
    "    leaders String,\n",
    "    initiatorId Float64,\n",
    "    thumbnail String\n",
    ") \n",
    "ENGINE = MergeTree \n",
    "ORDER BY id\n",
    "\"\"\")"
   ]
  },
  {
   "cell_type": "code",
   "execution_count": 40,
   "id": "4689e7df-6467-4455-a005-be7783663a50",
   "metadata": {},
   "outputs": [
    {
     "data": {
      "text/plain": [
       "<clickhouse_connect.driver.summary.QuerySummary at 0x26e14b93010>"
      ]
     },
     "execution_count": 40,
     "metadata": {},
     "output_type": "execute_result"
    }
   ],
   "source": [
    "client.insert_df(table='sandbox.ongoing_projects', df=df)"
   ]
  }
 ],
 "metadata": {
  "kernelspec": {
   "display_name": "Python 3 (ipykernel)",
   "language": "python",
   "name": "python3"
  },
  "language_info": {
   "codemirror_mode": {
    "name": "ipython",
    "version": 3
   },
   "file_extension": ".py",
   "mimetype": "text/x-python",
   "name": "python",
   "nbconvert_exporter": "python",
   "pygments_lexer": "ipython3",
   "version": "3.10.10"
  }
 },
 "nbformat": 4,
 "nbformat_minor": 5
}
